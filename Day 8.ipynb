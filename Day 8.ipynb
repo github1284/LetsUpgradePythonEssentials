{
  "nbformat": 4,
  "nbformat_minor": 0,
  "metadata": {
    "colab": {
      "name": "Assignment day8.ipynb",
      "provenance": [],
      "collapsed_sections": []
    },
    "kernelspec": {
      "name": "python3",
      "display_name": "Python 3"
    }
  },
  "cells": [
    {
      "cell_type": "markdown",
      "metadata": {
        "id": "9K3SK1iACNFH",
        "colab_type": "text"
      },
      "source": [
        "Q.1"
      ]
    },
    {
      "cell_type": "code",
      "metadata": {
        "id": "1aURbeDAQPT9",
        "colab_type": "code",
        "colab": {}
      },
      "source": [
        "def my_decorator(func):\n",
        "    def wrapper():\n",
        "        print(\"Something is happening before the function is called.\")\n",
        "        func()\n",
        "        print(\"Something is happening after the function is called.\")\n",
        "    return wrapper\n",
        "\n",
        "@my_decorator\n",
        "def say_whee():\n",
        "    print(\"Whee!\")"
      ],
      "execution_count": null,
      "outputs": []
    },
    {
      "cell_type": "code",
      "metadata": {
        "id": "UPbiTJGsQq9k",
        "colab_type": "code",
        "colab": {}
      },
      "source": [
        "say_whee = my_decorator(say_whee)"
      ],
      "execution_count": null,
      "outputs": []
    },
    {
      "cell_type": "code",
      "metadata": {
        "id": "Ygl-pzGrQy6l",
        "colab_type": "code",
        "colab": {
          "base_uri": "https://localhost:8080/",
          "height": 104
        },
        "outputId": "84a1936c-a321-4349-84ac-aa5e26417900"
      },
      "source": [
        "say_whee()\n"
      ],
      "execution_count": null,
      "outputs": [
        {
          "output_type": "stream",
          "text": [
            "Something is happening before the function is called.\n",
            "Something is happening before the function is called.\n",
            "Whee!\n",
            "Something is happening after the function is called.\n",
            "Something is happening after the function is called.\n"
          ],
          "name": "stdout"
        }
      ]
    },
    {
      "cell_type": "markdown",
      "metadata": {
        "id": "Vyv5zP7mCRPP",
        "colab_type": "text"
      },
      "source": [
        "Q.2"
      ]
    },
    {
      "cell_type": "code",
      "metadata": {
        "id": "d53ai-QyQ828",
        "colab_type": "code",
        "colab": {
          "base_uri": "https://localhost:8080/",
          "height": 35
        },
        "outputId": "8f34db23-e9fa-4ee0-d8e1-e24c74ba985b"
      },
      "source": [
        "\n",
        "#!/usr/bin/python\n",
        "\n",
        "try:\n",
        "   fh = open(\"testfile\", \"r\")\n",
        "   fh.write(\"This is my test file for exception handling!!\")\n",
        "except IOError:\n",
        "   print(\"Error: can\\'t find file or read data\")\n",
        "else:\n",
        "   print(\"Written content in the file successfully\")"
      ],
      "execution_count": 2,
      "outputs": [
        {
          "output_type": "stream",
          "text": [
            "Error: can't find file or read data\n"
          ],
          "name": "stdout"
        }
      ]
    },
    {
      "cell_type": "code",
      "metadata": {
        "id": "Xk9YpHmGC7Qx",
        "colab_type": "code",
        "colab": {}
      },
      "source": [
        ""
      ],
      "execution_count": null,
      "outputs": []
    }
  ]
}