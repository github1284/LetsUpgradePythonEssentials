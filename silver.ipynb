{
  "nbformat": 4,
  "nbformat_minor": 0,
  "metadata": {
    "colab": {
      "name": "Untitled9.ipynb",
      "provenance": []
    },
    "kernelspec": {
      "name": "python3",
      "display_name": "Python 3"
    }
  },
  "cells": [
    {
      "cell_type": "code",
      "metadata": {
        "id": "ekKdjkLKA5Xz",
        "colab_type": "code",
        "colab": {}
      },
      "source": [
        "\n",
        "def takePlayerInput():\n",
        "    player = \"blank\"\n",
        "    while not( player.lower() == \"r\" or player.lower() == \"p\" or player.lower() == \"s\") :\n",
        "        player = input(\"Please Enter your input out of - R | P | S = \")\n",
        "    return player.lower()"
      ],
      "execution_count": 1,
      "outputs": []
    },
    {
      "cell_type": "code",
      "metadata": {
        "id": "qJxi-NfEA8XN",
        "colab_type": "code",
        "colab": {
          "base_uri": "https://localhost:8080/",
          "height": 107
        },
        "outputId": "fd54e454-71aa-471d-b680-847fd8bf025e"
      },
      "source": [
        "takePlayerInput()"
      ],
      "execution_count": 2,
      "outputs": [
        {
          "output_type": "stream",
          "text": [
            "Please Enter your input out of - R | P | S = q\n",
            "Please Enter your input out of - R | P | S = v\n",
            "Please Enter your input out of - R | P | S = r\n"
          ],
          "name": "stdout"
        },
        {
          "output_type": "execute_result",
          "data": {
            "application/vnd.google.colaboratory.intrinsic+json": {
              "type": "string"
            },
            "text/plain": [
              "'r'"
            ]
          },
          "metadata": {
            "tags": []
          },
          "execution_count": 2
        }
      ]
    },
    {
      "cell_type": "code",
      "metadata": {
        "id": "xCuntFI8BC-c",
        "colab_type": "code",
        "colab": {}
      },
      "source": [
        "import random \n",
        "\n",
        "def getBotInput():\n",
        "    lst = ['r','s','p']\n",
        "    return random.choice(lst)"
      ],
      "execution_count": 3,
      "outputs": []
    },
    {
      "cell_type": "code",
      "metadata": {
        "id": "Qo-3RBowBJ97",
        "colab_type": "code",
        "colab": {
          "base_uri": "https://localhost:8080/",
          "height": 35
        },
        "outputId": "9afbbc64-7abe-41dd-b7fe-364d5a6974bb"
      },
      "source": [
        "getBotInput()"
      ],
      "execution_count": 4,
      "outputs": [
        {
          "output_type": "execute_result",
          "data": {
            "application/vnd.google.colaboratory.intrinsic+json": {
              "type": "string"
            },
            "text/plain": [
              "'s'"
            ]
          },
          "metadata": {
            "tags": []
          },
          "execution_count": 4
        }
      ]
    },
    {
      "cell_type": "code",
      "metadata": {
        "id": "mAjefIPtBO2a",
        "colab_type": "code",
        "colab": {}
      },
      "source": [
        "def checkWinner(player,bot):\n",
        "    if player == 'r' and bot == \"r\":\n",
        "        return \"draw\"\n",
        "    elif player == \"r\" and bot == \"p\":\n",
        "        return \"bot\"\n",
        "    elif player == \"r\" and bot == \"s\":\n",
        "        return \"player\"\n",
        "    elif player == \"p\" and bot == \"s\":\n",
        "        return \"bot\"\n",
        "    elif player == \"p\" and bot == \"r\":\n",
        "        return \"player\"\n",
        "    elif player == \"p\" and bot == \"p\":\n",
        "        return \"draw\"\n",
        "    elif player == \"s\" and bot == \"r\":\n",
        "        return \"bot\"\n",
        "    elif player == \"s\" and bot == \"p\":\n",
        "        return \"player\"\n",
        "    elif player == \"s\" and bot == \"s\":\n",
        "        return \"draw\"\n",
        "    else:\n",
        "        return \"draw\""
      ],
      "execution_count": 5,
      "outputs": []
    },
    {
      "cell_type": "code",
      "metadata": {
        "id": "4BIHzg_mBTlp",
        "colab_type": "code",
        "colab": {
          "base_uri": "https://localhost:8080/",
          "height": 35
        },
        "outputId": "7106ba5f-bd42-4213-c9d0-95154aba3471"
      },
      "source": [
        "\n",
        "checkWinner(player = \"r\",bot = \"p\")"
      ],
      "execution_count": 6,
      "outputs": [
        {
          "output_type": "execute_result",
          "data": {
            "application/vnd.google.colaboratory.intrinsic+json": {
              "type": "string"
            },
            "text/plain": [
              "'bot'"
            ]
          },
          "metadata": {
            "tags": []
          },
          "execution_count": 6
        }
      ]
    },
    {
      "cell_type": "code",
      "metadata": {
        "id": "b5VG84UiBWhk",
        "colab_type": "code",
        "colab": {}
      },
      "source": [
        "def rockPaperScissor():\n",
        "    endTheGame = \"n\"\n",
        "    player_score = 0 \n",
        "    bot_score = 0\n",
        "    while endTheGame.lower() != \"y\":\n",
        "        ply = takePlayerInput()\n",
        "        bt = getBotInput()\n",
        "        print('Bot Entered - ', bt)\n",
        "        print(\" \")\n",
        "        winner = checkWinner(player = ply, bot = bt)\n",
        "        print(\" Winner is - \", winner)\n",
        "        print(\" \")\n",
        "        if winner == \"player\":\n",
        "            player_score += 2\n",
        "        elif winner == \"bot\":\n",
        "            bot_score += 2\n",
        "        else :\n",
        "            player_score += 1\n",
        "            bot_score += 1\n",
        "            \n",
        "        print(\"--Score board--\")\n",
        "        print(\"PLAYER \",player_score)\n",
        "        print(\"Bot ---\",bot_score)\n",
        "        print(\" \")\n",
        "        endTheGame = input(\"You want to end Y/N - \")"
      ],
      "execution_count": 7,
      "outputs": []
    },
    {
      "cell_type": "code",
      "metadata": {
        "id": "NkI7oG3oBaDh",
        "colab_type": "code",
        "colab": {
          "base_uri": "https://localhost:8080/",
          "height": 401
        },
        "outputId": "ebc71332-0ad4-4252-d977-efa21f4fa20a"
      },
      "source": [
        "rockPaperScissor()"
      ],
      "execution_count": 8,
      "outputs": [
        {
          "output_type": "stream",
          "text": [
            "Please Enter your input out of - R | P | S = r\n",
            "Bot Entered -  r\n",
            " \n",
            " Winner is -  draw\n",
            " \n",
            "--Score board--\n",
            "PLAYER  1\n",
            "Bot --- 1\n",
            " \n",
            "You want to end Y/N - r\n",
            "Please Enter your input out of - R | P | S = y\n",
            "Please Enter your input out of - R | P | S = p\n",
            "Bot Entered -  p\n",
            " \n",
            " Winner is -  draw\n",
            " \n",
            "--Score board--\n",
            "PLAYER  2\n",
            "Bot --- 2\n",
            " \n",
            "You want to end Y/N - y\n"
          ],
          "name": "stdout"
        }
      ]
    },
    {
      "cell_type": "code",
      "metadata": {
        "id": "sMvOzseBBci5",
        "colab_type": "code",
        "colab": {}
      },
      "source": [
        "r\n"
      ],
      "execution_count": null,
      "outputs": []
    }
  ]
}