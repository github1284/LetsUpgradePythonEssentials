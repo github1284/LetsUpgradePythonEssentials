{
 "metadata": {
  "language_info": {
   "codemirror_mode": {
    "name": "ipython",
    "version": 3
   },
   "file_extension": ".py",
   "mimetype": "text/x-python",
   "name": "python",
   "nbconvert_exporter": "python",
   "pygments_lexer": "ipython3",
   "version": "3.7.4-final"
  },
  "orig_nbformat": 2,
  "kernelspec": {
   "name": "python_defaultSpec_1599234556840",
   "display_name": "Python 3.7.4 64-bit ('base': conda)"
  }
 },
 "nbformat": 4,
 "nbformat_minor": 2,
 "cells": [
  {
   "cell_type": "code",
   "execution_count": 1,
   "metadata": {
    "tags": []
   },
   "outputs": [
    {
     "output_type": "stream",
     "name": "stdout",
     "text": "Go around and try again\n"
    }
   ],
   "source": [
    "altitude = int(input(\"Enter Altitude\"))\n",
    "if altitude <=1000:\n",
    "  print('Safe to land')\n",
    "elif altitude > 1000 and altitude < 5000:\n",
    "  print('Come down to 1000ft')\n",
    "else:\n",
    "  print('Go around and try again')   "
   ]
  },
  {
   "cell_type": "code",
   "execution_count": 3,
   "metadata": {
    "tags": []
   },
   "outputs": [
    {
     "output_type": "stream",
     "name": "stdout",
     "text": "Prime Number 2\nPrime Number 3\nPrime Number 5\nPrime Number 7\nPrime Number 11\nPrime Number 13\nPrime Number 17\nPrime Number 19\nPrime Number 23\nPrime Number 29\nPrime Number 31\nPrime Number 37\nPrime Number 41\nPrime Number 43\nPrime Number 47\nPrime Number 53\nPrime Number 59\nPrime Number 61\nPrime Number 67\nPrime Number 71\nPrime Number 73\nPrime Number 79\nPrime Number 83\nPrime Number 89\nPrime Number 97\nPrime Number 101\nPrime Number 103\nPrime Number 107\nPrime Number 109\nPrime Number 113\nPrime Number 127\nPrime Number 131\nPrime Number 137\nPrime Number 139\nPrime Number 149\nPrime Number 151\nPrime Number 157\nPrime Number 163\nPrime Number 167\nPrime Number 173\nPrime Number 179\nPrime Number 181\nPrime Number 191\nPrime Number 193\nPrime Number 197\nPrime Number 199\n"
    }
   ],
   "source": [
    "for Number in range (1,201):\n",
    "    count = 0\n",
    "    for i in range(2, (Number//2 + 1)):\n",
    "        if(Number % i == 0):\n",
    "            count = count + 1\n",
    "            break\n",
    "\n",
    "    if (count == 0 and Number != 1):\n",
    "        print(\"Prime Number\",Number)"
   ]
  },
  {
   "cell_type": "code",
   "execution_count": null,
   "metadata": {},
   "outputs": [],
   "source": []
  }
 ]
}