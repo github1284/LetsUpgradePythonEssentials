{
  "nbformat": 4,
  "nbformat_minor": 0,
  "metadata": {
    "colab": {
      "name": "Untitled10.ipynb",
      "provenance": [],
      "collapsed_sections": []
    },
    "kernelspec": {
      "name": "python3",
      "display_name": "Python 3"
    }
  },
  "cells": [
    {
      "cell_type": "code",
      "metadata": {
        "id": "9MJZiycrEl9H",
        "colab_type": "code",
        "colab": {
          "base_uri": "https://localhost:8080/",
          "height": 322
        },
        "outputId": "1494f51a-7cf8-4dd5-e8dd-05c3461d8084"
      },
      "source": [
        "import unittest\n",
        "class PrimesTestCase(unittest.TestCase):\n",
        "    \"\"\"Tests for `primes.py`.\"\"\"\n",
        "\n",
        "    def is_prime(number):\n",
        "      \"\"\"Return True if *number* is prime.\"\"\"\n",
        "      if number <= 1:\n",
        "        return False\n",
        "      for element in range(2, number):\n",
        "        if number % element == 0:\n",
        "            return False\n",
        "      return True\n",
        "\n",
        "    def test_is_five_prime(self):\n",
        "        \"\"\"Is five successfully determined to be prime?\"\"\"\n",
        "        self.assertTrue(is_prime(5))\n",
        "\n",
        "if __name__ == '__main__':\n",
        "    unittest.main()\n",
        "  "
      ],
      "execution_count": 8,
      "outputs": [
        {
          "output_type": "stream",
          "text": [
            "E\n",
            "======================================================================\n",
            "ERROR: /root/ (unittest.loader._FailedTest)\n",
            "----------------------------------------------------------------------\n",
            "AttributeError: module '__main__' has no attribute '/root/'\n",
            "\n",
            "----------------------------------------------------------------------\n",
            "Ran 1 test in 0.002s\n",
            "\n",
            "FAILED (errors=1)\n"
          ],
          "name": "stderr"
        },
        {
          "output_type": "error",
          "ename": "SystemExit",
          "evalue": "ignored",
          "traceback": [
            "An exception has occurred, use %tb to see the full traceback.\n",
            "\u001b[0;31mSystemExit\u001b[0m\u001b[0;31m:\u001b[0m True\n"
          ]
        },
        {
          "output_type": "stream",
          "text": [
            "/usr/local/lib/python3.6/dist-packages/IPython/core/interactiveshell.py:2890: UserWarning: To exit: use 'exit', 'quit', or Ctrl-D.\n",
            "  warn(\"To exit: use 'exit', 'quit', or Ctrl-D.\", stacklevel=1)\n"
          ],
          "name": "stderr"
        }
      ]
    },
    {
      "cell_type": "code",
      "metadata": {
        "id": "JdvGaa7uEvGH",
        "colab_type": "code",
        "colab": {}
      },
      "source": [
        ""
      ],
      "execution_count": null,
      "outputs": []
    }
  ]
}