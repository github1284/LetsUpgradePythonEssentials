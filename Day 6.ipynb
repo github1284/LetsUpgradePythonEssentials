{
  "nbformat": 4,
  "nbformat_minor": 0,
  "metadata": {
    "colab": {
      "name": "Assignment_day6.ipynb",
      "provenance": [],
      "collapsed_sections": []
    },
    "kernelspec": {
      "name": "python3",
      "display_name": "Python 3"
    }
  },
  "cells": [
    {
      "cell_type": "markdown",
      "metadata": {
        "id": "4Qz0dU9vLGDI",
        "colab_type": "text"
      },
      "source": [
        "Q.1"
      ]
    },
    {
      "cell_type": "code",
      "metadata": {
        "id": "2sb0RGW6EEg2",
        "colab_type": "code",
        "colab": {}
      },
      "source": [
        "class bankAccount():\n",
        "  def __init__(this,accountOwner,accountBalance = 0):\n",
        "    this.accountOwner = accountOwner\n",
        "    this.accountBalance = accountBalance\n",
        "\n",
        "  def amountDeposit(this):\n",
        "      amount = float(input(\"Enter amount to be deposit: \"))\n",
        "      this.accountBalance += amount \n",
        "      print(\"\\n Amount Deposited:\",amount)\n",
        "      print(\"\\n Your Account Balance is :\",this.accountBalance)\n",
        "     \n",
        "  def amountWithraw(this):\n",
        "      amount = float(input(\"\\n Enter amount to be Withdraw: \"))\n",
        "      if this.accountBalance >= amount:\n",
        "        this.accountBalance -= amount\n",
        "        print(\"\\n Your Withdrew amount is :\", amount)\n",
        "      else:\n",
        "        print(\"\\n Insufficient balance\")\n",
        "\n",
        "  def displayAmount(this):\n",
        "        print(\"\\n Net Available Balance=\",this.accountBalance)"
      ],
      "execution_count": null,
      "outputs": []
    },
    {
      "cell_type": "code",
      "metadata": {
        "id": "PbGyQaMXILzi",
        "colab_type": "code",
        "colab": {
          "base_uri": "https://localhost:8080/",
          "height": 228
        },
        "outputId": "ce56aea5-2a95-4ecf-fc11-5213cb1573e1"
      },
      "source": [
        "value = bankAccount(\"varsha\")\n",
        "value.amountDeposit()\n",
        "value.amountWithraw()\n",
        "value.displayAmount()"
      ],
      "execution_count": null,
      "outputs": [
        {
          "output_type": "stream",
          "text": [
            "Enter amount to be deposit: 10000\n",
            "\n",
            " Amount Deposited: 10000.0\n",
            "\n",
            " Your Account Balance is : 10000.0\n",
            "\n",
            " Enter amount to be Withdraw: 20000\n",
            "\n",
            " Insufficient balance\n",
            "\n",
            " Net Available Balance= 10000.0\n"
          ],
          "name": "stdout"
        }
      ]
    },
    {
      "cell_type": "code",
      "metadata": {
        "id": "glX0TbEjIwPp",
        "colab_type": "code",
        "colab": {
          "base_uri": "https://localhost:8080/",
          "height": 228
        },
        "outputId": "4fe49404-0d80-4780-fee0-573c49894c34"
      },
      "source": [
        "value = bankAccount(\"varsha\")\n",
        "value.amountDeposit()\n",
        "value.amountWithraw()\n",
        "value.displayAmount()"
      ],
      "execution_count": null,
      "outputs": [
        {
          "output_type": "stream",
          "text": [
            "Enter amount to be deposit: 20000\n",
            "\n",
            " Amount Deposited: 20000.0\n",
            "\n",
            " Your Account Balance is : 20000.0\n",
            "\n",
            " Enter amount to be Withdraw: 1000\n",
            "\n",
            " Your Withdrew amount is : 1000.0\n",
            "\n",
            " Net Available Balance= 19000.0\n"
          ],
          "name": "stdout"
        }
      ]
    },
    {
      "cell_type": "markdown",
      "metadata": {
        "id": "TvPb8jQ-LME6",
        "colab_type": "text"
      },
      "source": [
        "Q.2"
      ]
    },
    {
      "cell_type": "code",
      "metadata": {
        "id": "l10LxIEHLNyX",
        "colab_type": "code",
        "colab": {}
      },
      "source": [
        "class Cone():\n",
        "  import math\n",
        "  def __init__(this,radius,height):\n",
        "    this.radius = radius\n",
        "    this.height = height\n",
        "\n",
        "\n",
        "  def Volume(this):\n",
        "    r =  this.radius\n",
        "    h =  this.height\n",
        "    pi = math.pi\n",
        "    volume = pi * r * r * (h/3)\n",
        "    print(\" Volume of cone is : \",volume)\n",
        "\n",
        "  def surfaceArea(this):\n",
        "    r = this.radius\n",
        "    h = this.height\n",
        "    l = math.sqrt(r * r + h * h)\n",
        "    base = pi * r * r\n",
        "    side = pi * r * l\n",
        "    print(\" Surface area of cone is : \", (base,side))\n",
        "  \n",
        "   "
      ],
      "execution_count": null,
      "outputs": []
    },
    {
      "cell_type": "code",
      "metadata": {
        "id": "auqT83TbPvW8",
        "colab_type": "code",
        "colab": {
          "base_uri": "https://localhost:8080/",
          "height": 52
        },
        "outputId": "38ce35bb-f516-4e92-e733-cae12a917d91"
      },
      "source": [
        "num = Cone(5,10)\n",
        "num.Volume()\n",
        "num.surfaceArea()"
      ],
      "execution_count": null,
      "outputs": [
        {
          "output_type": "stream",
          "text": [
            " Volume of cone is :  261.79938779914943\n",
            " Surface area of cone is :  (78.53981633974483, 175.62036827601816)\n"
          ],
          "name": "stdout"
        }
      ]
    }
  ]
}