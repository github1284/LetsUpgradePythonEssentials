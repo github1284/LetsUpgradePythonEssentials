{
  "nbformat": 4,
  "nbformat_minor": 0,
  "metadata": {
    "colab": {
      "name": "Untitled6.ipynb",
      "provenance": [],
      "collapsed_sections": []
    },
    "kernelspec": {
      "name": "python3",
      "display_name": "Python 3"
    }
  },
  "cells": [
    {
      "cell_type": "code",
      "metadata": {
        "id": "g0rqJJZ9rR2l",
        "colab_type": "code",
        "colab": {
          "base_uri": "https://localhost:8080/",
          "height": 89
        },
        "outputId": "39efdc91-d63b-4d78-e049-6b705499c936"
      },
      "source": [
        "# take input from the user\n",
        "lower = int(input(\"Enter lower range: \"))\n",
        "upper = int(input(\"Enter upper range: \"))\n",
        " \n",
        "for num in range(lower,upper + 1):\n",
        "   # initialize sum\n",
        "   sum = 0\n",
        " \n",
        "   # find the sum of the cube of each digit\n",
        "   temp = num\n",
        "   while temp > 0:\n",
        "       digit = temp % 10\n",
        "       sum += digit ** 3\n",
        "       temp //= 10\n",
        " \n",
        "   if num == sum:\n",
        "     n = []\n",
        "     n.append(num)\n",
        "     if n[0]:\n",
        "       print(\"Then first armstrong number is: \",n[0])\n",
        "       break\n",
        "       "
      ],
      "execution_count": null,
      "outputs": [
        {
          "output_type": "stream",
          "text": [
            "Enter lower range: 100\n",
            "Enter upper range: 1000\n",
            "Then first armstrong number is:  153\n"
          ],
          "name": "stdout"
        }
      ]
    },
    {
      "cell_type": "code",
      "metadata": {
        "id": "wLgyaNwNrYZ1",
        "colab_type": "code",
        "colab": {}
      },
      "source": [
        ""
      ],
      "execution_count": null,
      "outputs": []
    }
  ]
}